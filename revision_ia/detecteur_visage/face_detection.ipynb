{
 "cells": [
  {
   "cell_type": "code",
   "execution_count": null,
   "id": "2c600141-6805-4fb7-b886-fc0dfd826b5b",
   "metadata": {},
   "outputs": [
    {
     "name": "stderr",
     "output_type": "stream",
     "text": [
      "Warning: Ignoring XDG_SESSION_TYPE=wayland on Gnome. Use QT_QPA_PLATFORM=wayland to run on Wayland anyway.\n"
     ]
    }
   ],
   "source": [
    "import cv2 as cv\n",
    "\n",
    "#charger les classificateurs en cascade pré-entrainés\n",
    "face_cascade = cv.CascadeClassifier('face-detect/haarcascade_frontalface_default.xml')\n",
    "\n",
    "#charger les images\n",
    "img = cv.imread('face-detect/obama.jpg')\n",
    "gray = cv.cvtColor(img, cv.COLOR_BGR2GRAY)\n",
    "\n",
    "#exécution de la détection de visage\n",
    "faces = face_cascade.detectMultiScale(gray, 1.1, 8)\n",
    "\n",
    "#affichage es visages\n",
    "i = 0\n",
    "for face in faces:\n",
    "    x,y,w,h = face\n",
    "\n",
    "    # dessigner le rectangle sur l'image principale\n",
    "    cv.rectangle(img, (x,y), (x+w, y+h), (0,255,0), 2)\n",
    "\n",
    "    # extraire les visages de l'image principale\n",
    "    # OpenCV et N\n",
    "    face = img[y:y+h, x:x+w]\n",
    "\n",
    "    # afficher face0, face1, face2, etc...\n",
    "    cv.imshow('face{}'.format(i), face)\n",
    "    i+=1\n",
    "\n",
    "cv.imshow('image principale', img)\n",
    "cv.waitKey(0)\n",
    "cv.destroyAllWindows()"
   ]
  },
  {
   "cell_type": "code",
   "execution_count": null,
   "id": "d9a9c56f-d07e-4a21-a941-78bcc96e2081",
   "metadata": {},
   "outputs": [],
   "source": []
  }
 ],
 "metadata": {
  "kernelspec": {
   "display_name": "Python 3 (ipykernel)",
   "language": "python",
   "name": "python3"
  },
  "language_info": {
   "codemirror_mode": {
    "name": "ipython",
    "version": 3
   },
   "file_extension": ".py",
   "mimetype": "text/x-python",
   "name": "python",
   "nbconvert_exporter": "python",
   "pygments_lexer": "ipython3",
   "version": "3.11.6"
  }
 },
 "nbformat": 4,
 "nbformat_minor": 5
}
