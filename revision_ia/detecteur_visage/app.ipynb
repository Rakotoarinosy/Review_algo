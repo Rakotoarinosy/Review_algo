{
 "cells": [
  {
   "cell_type": "code",
   "execution_count": null,
   "id": "3b13dfdf-d029-4595-92f4-f236e0053749",
   "metadata": {},
   "outputs": [
    {
     "name": "stderr",
     "output_type": "stream",
     "text": [
      "Warning: Ignoring XDG_SESSION_TYPE=wayland on Gnome. Use QT_QPA_PLATFORM=wayland to run on Wayland anyway.\n"
     ]
    }
   ],
   "source": [
    "import cv2 as cv\n",
    "import sys\n",
    "\n",
    "# charger le classificateur en cascade pré-entrainé\n",
    "face_cascade = cv.CascadeClassifier('face-detect/haarcascade_frontalface_default.xml')\n",
    "\n",
    "# charger l'image\n",
    "img = cv.imread('face-detect/brad-angelina.jpg')\n",
    "img_gray = cv.cvtColor(img, cv.COLOR_BGR2GRAY)\n",
    "\n",
    "# executer la détection de visage\n",
    "faces = face_cascade.detectMultiScale(img_gray, 1.1, 8)\n",
    "\n",
    "# vérifier le nombre de visages\n",
    "if len(faces) != 2:\n",
    "    sys.exit('La photo doit avoir exactement 2 visages, réesayez...')\n",
    "\n",
    "# récupération des dimensions de chaque visage\n",
    "x1,y1, w1,h1 = faces[0]\n",
    "x2,y2, w2,h2 = faces[1]\n",
    "\n",
    "# extraction des 2 visages de l'images\n",
    "face1 = img[y1:y1+h1,x1:x1+w1]\n",
    "face2 = img[y2:y2+h2,x2:x2+w2]\n",
    "\n",
    "# redimentionné face2 aux dimmenssions de face,1 et vice versa\n",
    "face2_resize = cv.resize(face2,(w1,h1))\n",
    "face1_resize = cv.resize(face1,(w2,h2))\n",
    "\n",
    "#remplacer face2 par face1\n",
    "img[y2:y2+h2,x2:x2+w2] = face1_resize\n",
    "\n",
    "#remplacer face2 par face1\n",
    "img[y1:y1+h1,x1:x1+w1] = face2_resize\n",
    "\n",
    "#afficher\n",
    "cv.imshow('echange', img)\n",
    "cv.waitKey(0)\n",
    "cv.destroyAllWindows()"
   ]
  },
  {
   "cell_type": "code",
   "execution_count": null,
   "id": "09b3e98d-6fea-44b0-b989-f65762efaa4f",
   "metadata": {},
   "outputs": [],
   "source": []
  }
 ],
 "metadata": {
  "kernelspec": {
   "display_name": "Python 3 (ipykernel)",
   "language": "python",
   "name": "python3"
  },
  "language_info": {
   "codemirror_mode": {
    "name": "ipython",
    "version": 3
   },
   "file_extension": ".py",
   "mimetype": "text/x-python",
   "name": "python",
   "nbconvert_exporter": "python",
   "pygments_lexer": "ipython3",
   "version": "3.11.6"
  }
 },
 "nbformat": 4,
 "nbformat_minor": 5
}
